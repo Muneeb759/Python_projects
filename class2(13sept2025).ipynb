{
 "cells": [
  {
   "cell_type": "code",
   "execution_count": 7,
   "id": "e274ba69",
   "metadata": {},
   "outputs": [
    {
     "name": "stdout",
     "output_type": "stream",
     "text": [
      "Hello world\n",
      "This is our first class\n",
      "this is our third line\n",
      "this is our fourth line\n"
     ]
    }
   ],
   "source": [
    "print('Hello world')\n",
    "print('This is our first class')\n",
    "print('this is our third line')\n",
    "print('this is our fourth line')"
   ]
  },
  {
   "cell_type": "code",
   "execution_count": null,
   "id": "e2546d9d",
   "metadata": {},
   "outputs": [
    {
     "name": "stdout",
     "output_type": "stream",
     "text": [
      "Hello world Ali Khan\n",
      "chahat fateh Khan\n"
     ]
    }
   ],
   "source": [
    "print('Hello world',end=' ')\n",
    "print('Ali Khan')\n",
    "print('chahat fateh Khan')\n"
   ]
  },
  {
   "cell_type": "code",
   "execution_count": null,
   "id": "66765b54",
   "metadata": {},
   "outputs": [
    {
     "name": "stdout",
     "output_type": "stream",
     "text": [
      "Fakhar Bobzie Rizwan\n"
     ]
    }
   ],
   "source": [
    "print('Fakhar','Bobzie','Rizwan')"
   ]
  },
  {
   "cell_type": "code",
   "execution_count": null,
   "id": "ed37d506",
   "metadata": {},
   "outputs": [
    {
     "name": "stdout",
     "output_type": "stream",
     "text": [
      "Fakhar------Bobzie------Rizwan\n",
      "Fakhar\n",
      "Bobzie\n",
      "Rizwan\n"
     ]
    }
   ],
   "source": [
    "print('Fakhar','Bobzie','Rizwan', sep='------')\n",
    "print('Fakhar','Bobzie','Rizwan', sep='------')\n",
    "print('Fakhar','Bobzie','Rizwan', sep='\\n')"
   ]
  },
  {
   "cell_type": "code",
   "execution_count": 25,
   "id": "aacef6e6",
   "metadata": {},
   "outputs": [
    {
     "name": "stdout",
     "output_type": "stream",
     "text": [
      "This is our first line \n",
      "This is our second line\n"
     ]
    }
   ],
   "source": [
    "print('This is our first line \\nThis is our second line')"
   ]
  },
  {
   "cell_type": "code",
   "execution_count": 30,
   "id": "c528e5b1",
   "metadata": {},
   "outputs": [
    {
     "name": "stdout",
     "output_type": "stream",
     "text": [
      "AbdulRehman------AliKhan\n"
     ]
    }
   ],
   "source": [
    "print('AbdulRehman','AliKhan', sep='------')"
   ]
  },
  {
   "cell_type": "code",
   "execution_count": 32,
   "id": "87c06418",
   "metadata": {},
   "outputs": [
    {
     "name": "stdout",
     "output_type": "stream",
     "text": [
      "6\n",
      "2\n",
      "8\n",
      "2.0\n"
     ]
    }
   ],
   "source": [
    "print(4+2)\n",
    "print(4-2)\n",
    "print(4*2)\n",
    "print(4/2)\n"
   ]
  },
  {
   "cell_type": "code",
   "execution_count": null,
   "id": "8ec57f43",
   "metadata": {},
   "outputs": [
    {
     "name": "stdout",
     "output_type": "stream",
     "text": [
      "25.3\n",
      "5\n"
     ]
    }
   ],
   "source": [
    "print(23.3+2)\n",
    "print(2+3)\n",
    "print(2+3)"
   ]
  },
  {
   "cell_type": "code",
   "execution_count": 35,
   "id": "66b40c56",
   "metadata": {},
   "outputs": [
    {
     "name": "stdout",
     "output_type": "stream",
     "text": [
      "2+3\n",
      "5\n"
     ]
    }
   ],
   "source": [
    "print('2+3')\n",
    "print(2+3)"
   ]
  },
  {
   "cell_type": "markdown",
   "id": "9732c6df",
   "metadata": {},
   "source": [
    "# Types of Data (Data Types)"
   ]
  },
  {
   "cell_type": "markdown",
   "id": "e7e9611d",
   "metadata": {},
   "source": [
    "- String --- Text\n",
    "- Integer --- Whole Number\n",
    "- Floating point data --- Decimal Number\n",
    "- Boolean --- True and False"
   ]
  },
  {
   "cell_type": "code",
   "execution_count": 37,
   "id": "0c4b57c3",
   "metadata": {},
   "outputs": [
    {
     "name": "stdout",
     "output_type": "stream",
     "text": [
      "This is a text data\n",
      "234\n",
      "234.3\n",
      "True False\n"
     ]
    }
   ],
   "source": [
    "print('This is a text data')\n",
    "print(234)\n",
    "print(234.3)\n",
    "print(True, False)\n"
   ]
  },
  {
   "cell_type": "code",
   "execution_count": 41,
   "id": "9bc1ba27",
   "metadata": {},
   "outputs": [
    {
     "name": "stdout",
     "output_type": "stream",
     "text": [
      "<class 'str'>\n",
      "<class 'int'>\n",
      "<class 'float'>\n",
      "<class 'bool'>\n"
     ]
    }
   ],
   "source": [
    "print(type('ali khan'))\n",
    "print(type(12))\n",
    "print(type(12.3))\n",
    "print(type(True))"
   ]
  }
 ],
 "metadata": {
  "kernelspec": {
   "display_name": "base",
   "language": "python",
   "name": "python3"
  },
  "language_info": {
   "codemirror_mode": {
    "name": "ipython",
    "version": 3
   },
   "file_extension": ".py",
   "mimetype": "text/x-python",
   "name": "python",
   "nbconvert_exporter": "python",
   "pygments_lexer": "ipython3",
   "version": "3.9.13"
  }
 },
 "nbformat": 4,
 "nbformat_minor": 5
}
