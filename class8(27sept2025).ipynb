{
 "cells": [
  {
   "cell_type": "code",
   "execution_count": 6,
   "id": "ddbbcf0a",
   "metadata": {},
   "outputs": [
    {
     "data": {
      "text/plain": [
       "2"
      ]
     },
     "execution_count": 6,
     "metadata": {},
     "output_type": "execute_result"
    }
   ],
   "source": [
    "fullname = 'Muneeb, My name is Muhammad Muneeb'\n",
    "fullname.count('Muneeb')\n"
   ]
  },
  {
   "cell_type": "code",
   "execution_count": null,
   "id": "071f0550",
   "metadata": {},
   "outputs": [
    {
     "data": {
      "text/plain": [
       "25"
      ]
     },
     "execution_count": 2,
     "metadata": {},
     "output_type": "execute_result"
    }
   ],
   "source": [
    "info = 'My name is nabeel sadiq, i live in Lahore and Lahore is a beautiful city and i dont want to leave Lahore'\n",
    "\n",
    "info.index(\"i live\") # returns an error if not found\n",
    "info.find(\"i live\") # returns -1 if not found\n"
   ]
  },
  {
   "cell_type": "code",
   "execution_count": 3,
   "id": "5a4217e5",
   "metadata": {},
   "outputs": [
    {
     "data": {
      "text/plain": [
       "1"
      ]
     },
     "execution_count": 3,
     "metadata": {},
     "output_type": "execute_result"
    }
   ],
   "source": [
    "info.count('city')"
   ]
  },
  {
   "cell_type": "markdown",
   "id": "48ffc6d4",
   "metadata": {},
   "source": [
    "#LISTS"
   ]
  },
  {
   "cell_type": "code",
   "execution_count": 28,
   "id": "64f2f2ad",
   "metadata": {},
   "outputs": [],
   "source": [
    "all_names = ['Muhammad Muneeb', 'Nabeel Sadiq', 'Ali Raza', 'Ahsan Ali', 'Hassan Ali']"
   ]
  },
  {
   "cell_type": "code",
   "execution_count": 3,
   "id": "71a0e931",
   "metadata": {},
   "outputs": [
    {
     "data": {
      "text/plain": [
       "list"
      ]
     },
     "execution_count": 3,
     "metadata": {},
     "output_type": "execute_result"
    }
   ],
   "source": [
    "type(all_names)\n"
   ]
  },
  {
   "cell_type": "code",
   "execution_count": 5,
   "id": "6effc43a",
   "metadata": {},
   "outputs": [
    {
     "data": {
      "text/plain": [
       "4"
      ]
     },
     "execution_count": 5,
     "metadata": {},
     "output_type": "execute_result"
    }
   ],
   "source": [
    "len(all_names)"
   ]
  },
  {
   "cell_type": "markdown",
   "id": "37f32d4c",
   "metadata": {},
   "source": [
    "## Accessing elements in list"
   ]
  },
  {
   "cell_type": "code",
   "execution_count": 19,
   "id": "24912f4f",
   "metadata": {},
   "outputs": [
    {
     "data": {
      "text/plain": [
       "['Muhammad Muneeb', 'Nabeel Sadiq', 'Ali Raza', 'Ahsan Ali']"
      ]
     },
     "execution_count": 19,
     "metadata": {},
     "output_type": "execute_result"
    }
   ],
   "source": [
    "# all_names[0:4] # slicing\n",
    "all_names[-1] # last element\n",
    "all_names[0:4] "
   ]
  },
  {
   "cell_type": "markdown",
   "id": "e814f327",
   "metadata": {},
   "source": [
    "## Stepping"
   ]
  },
  {
   "cell_type": "code",
   "execution_count": null,
   "id": "bfce8627",
   "metadata": {},
   "outputs": [
    {
     "data": {
      "text/plain": [
       "['Muhammad Muneeb', 'Hassan Ali']"
      ]
     },
     "execution_count": 30,
     "metadata": {},
     "output_type": "execute_result"
    }
   ],
   "source": [
    "all_names\n",
    "all_names[0::4] # start:stop:step"
   ]
  }
 ],
 "metadata": {
  "kernelspec": {
   "display_name": "Python 3",
   "language": "python",
   "name": "python3"
  },
  "language_info": {
   "codemirror_mode": {
    "name": "ipython",
    "version": 3
   },
   "file_extension": ".py",
   "mimetype": "text/x-python",
   "name": "python",
   "nbconvert_exporter": "python",
   "pygments_lexer": "ipython3",
   "version": "3.13.1"
  }
 },
 "nbformat": 4,
 "nbformat_minor": 5
}
