{
 "cells": [
  {
   "cell_type": "code",
   "execution_count": 6,
   "id": "ddbbcf0a",
   "metadata": {},
   "outputs": [
    {
     "data": {
      "text/plain": [
       "2"
      ]
     },
     "execution_count": 6,
     "metadata": {},
     "output_type": "execute_result"
    }
   ],
   "source": [
    "fullname = 'Muneeb, My name is Muhammad Muneeb'\n",
    "fullname.count('Muneeb')\n"
   ]
  },
  {
   "cell_type": "code",
   "execution_count": null,
   "id": "071f0550",
   "metadata": {},
   "outputs": [
    {
     "data": {
      "text/plain": [
       "25"
      ]
     },
     "execution_count": 2,
     "metadata": {},
     "output_type": "execute_result"
    }
   ],
   "source": [
    "info = 'My name is nabeel sadiq, i live in Lahore and Lahore is a beautiful city and i dont want to leave Lahore'\n",
    "\n",
    "info.index(\"i live\") # returns an error if not found\n",
    "info.find(\"i live\") # returns -1 if not found\n"
   ]
  },
  {
   "cell_type": "code",
   "execution_count": 3,
   "id": "5a4217e5",
   "metadata": {},
   "outputs": [
    {
     "data": {
      "text/plain": [
       "1"
      ]
     },
     "execution_count": 3,
     "metadata": {},
     "output_type": "execute_result"
    }
   ],
   "source": [
    "info.count('city')"
   ]
  },
  {
   "cell_type": "markdown",
   "id": "48ffc6d4",
   "metadata": {},
   "source": [
    "#LISTS"
   ]
  },
  {
   "cell_type": "code",
   "execution_count": 70,
   "id": "64f2f2ad",
   "metadata": {},
   "outputs": [],
   "source": [
    "all_names = ['Muhammad Muneeb', 'Nabeel Sadiq', 'Ali Raza', 'Ahsan Ali', 'Hassan Ali']"
   ]
  },
  {
   "cell_type": "code",
   "execution_count": 3,
   "id": "71a0e931",
   "metadata": {},
   "outputs": [
    {
     "data": {
      "text/plain": [
       "list"
      ]
     },
     "execution_count": 3,
     "metadata": {},
     "output_type": "execute_result"
    }
   ],
   "source": [
    "type(all_names)\n"
   ]
  },
  {
   "cell_type": "code",
   "execution_count": 5,
   "id": "6effc43a",
   "metadata": {},
   "outputs": [
    {
     "data": {
      "text/plain": [
       "4"
      ]
     },
     "execution_count": 5,
     "metadata": {},
     "output_type": "execute_result"
    }
   ],
   "source": [
    "len(all_names)"
   ]
  },
  {
   "cell_type": "markdown",
   "id": "37f32d4c",
   "metadata": {},
   "source": [
    "## Accessing elements in list"
   ]
  },
  {
   "cell_type": "code",
   "execution_count": 19,
   "id": "24912f4f",
   "metadata": {},
   "outputs": [
    {
     "data": {
      "text/plain": [
       "['Muhammad Muneeb', 'Nabeel Sadiq', 'Ali Raza', 'Ahsan Ali']"
      ]
     },
     "execution_count": 19,
     "metadata": {},
     "output_type": "execute_result"
    }
   ],
   "source": [
    "# all_names[0:4] # slicing\n",
    "all_names[-1] # last element\n",
    "all_names[0:4] "
   ]
  },
  {
   "cell_type": "markdown",
   "id": "e814f327",
   "metadata": {},
   "source": [
    "## Stepping"
   ]
  },
  {
   "cell_type": "code",
   "execution_count": 48,
   "id": "21579f5f",
   "metadata": {},
   "outputs": [
    {
     "data": {
      "text/plain": [
       "['Hassan Ali', 'Nabeel Sadiq']"
      ]
     },
     "execution_count": 48,
     "metadata": {},
     "output_type": "execute_result"
    }
   ],
   "source": [
    "all_names[0:6:3] # slicing with step"
   ]
  },
  {
   "cell_type": "code",
   "execution_count": 49,
   "id": "2d3b31d8",
   "metadata": {},
   "outputs": [
    {
     "data": {
      "text/plain": [
       "['Muhammad Muneeb', 'Nabeel Sadiq', 'Ali Raza', 'Ahsan Ali', 'Hassan Ali']"
      ]
     },
     "execution_count": 49,
     "metadata": {},
     "output_type": "execute_result"
    }
   ],
   "source": [
    "all_names.reverse()\n",
    "all_names"
   ]
  },
  {
   "cell_type": "code",
   "execution_count": null,
   "id": "d48e5dea",
   "metadata": {},
   "outputs": [],
   "source": [
    "0 , 1 , 2 , 3 , 4 #forward Indexing\n",
    "-5 , -4 , -3 , -2 , -1 #backward Indexing"
   ]
  },
  {
   "cell_type": "code",
   "execution_count": 52,
   "id": "21a620ea",
   "metadata": {},
   "outputs": [
    {
     "data": {
      "text/plain": [
       "['Hassan Ali', 'Ahsan Ali', 'Ali Raza', 'Nabeel Sadiq', 'Muhammad Muneeb']"
      ]
     },
     "execution_count": 52,
     "metadata": {},
     "output_type": "execute_result"
    }
   ],
   "source": [
    "all_names[::-1] # to reverse a list using slicing"
   ]
  },
  {
   "cell_type": "code",
   "execution_count": null,
   "id": "ceb0b348",
   "metadata": {},
   "outputs": [],
   "source": [
    "all_names.append('Hassan Ali')"
   ]
  },
  {
   "cell_type": "code",
   "execution_count": 61,
   "id": "ea91f87f",
   "metadata": {},
   "outputs": [],
   "source": [
    "all_names.remove('Hassan Ali')"
   ]
  },
  {
   "cell_type": "code",
   "execution_count": 65,
   "id": "05381430",
   "metadata": {},
   "outputs": [],
   "source": [
    "all_names.extend('Fakhar Zaman') # adds each element of the iterable"
   ]
  },
  {
   "cell_type": "code",
   "execution_count": 76,
   "id": "3516e263",
   "metadata": {},
   "outputs": [],
   "source": [
    "new_name = input(\"Enter your name: \")\n",
    "\n",
    "all_names.append(new_name)"
   ]
  },
  {
   "cell_type": "code",
   "execution_count": 81,
   "id": "dfbca6eb",
   "metadata": {},
   "outputs": [
    {
     "data": {
      "text/plain": [
       "['Ahsan Ali',\n",
       " 'Ali Raza',\n",
       " 'Bobzie',\n",
       " 'Hassan Ali',\n",
       " 'Muhammad Muneeb',\n",
       " 'Nabeel Sadiq']"
      ]
     },
     "execution_count": 81,
     "metadata": {},
     "output_type": "execute_result"
    }
   ],
   "source": [
    "all_names[::]"
   ]
  }
 ],
 "metadata": {
  "kernelspec": {
   "display_name": "Python 3",
   "language": "python",
   "name": "python3"
  },
  "language_info": {
   "codemirror_mode": {
    "name": "ipython",
    "version": 3
   },
   "file_extension": ".py",
   "mimetype": "text/x-python",
   "name": "python",
   "nbconvert_exporter": "python",
   "pygments_lexer": "ipython3",
   "version": "3.13.1"
  }
 },
 "nbformat": 4,
 "nbformat_minor": 5
}
