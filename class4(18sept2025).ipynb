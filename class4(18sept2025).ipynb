{
 "cells": [
  {
   "cell_type": "code",
   "execution_count": 1,
   "id": "be91a19a",
   "metadata": {},
   "outputs": [],
   "source": [
    "#ipynb stands for interactive python notebook"
   ]
  },
  {
   "cell_type": "markdown",
   "id": "07c52302",
   "metadata": {},
   "source": [
    "Basic data Type:\n",
    "- String \n",
    "- Integer\n",
    "- Float\n",
    "- Boolean"
   ]
  },
  {
   "cell_type": "code",
   "execution_count": 2,
   "id": "6d763249",
   "metadata": {},
   "outputs": [
    {
     "name": "stdout",
     "output_type": "stream",
     "text": [
      "Ali Khan\n"
     ]
    }
   ],
   "source": [
    "fname = 'Ali'\n",
    "lname = 'Khan'\n",
    "print(fname, lname)"
   ]
  },
  {
   "cell_type": "code",
   "execution_count": 3,
   "id": "17b33402",
   "metadata": {},
   "outputs": [
    {
     "data": {
      "text/plain": [
       "'Ali'"
      ]
     },
     "execution_count": 3,
     "metadata": {},
     "output_type": "execute_result"
    }
   ],
   "source": [
    "fname"
   ]
  },
  {
   "cell_type": "code",
   "execution_count": 4,
   "id": "27978757",
   "metadata": {},
   "outputs": [
    {
     "name": "stdout",
     "output_type": "stream",
     "text": [
      "Ali Khan\n"
     ]
    }
   ],
   "source": [
    "print(fname, lname)"
   ]
  },
  {
   "cell_type": "markdown",
   "id": "7441c917",
   "metadata": {},
   "source": [
    "# User Input using input() function"
   ]
  },
  {
   "cell_type": "code",
   "execution_count": 15,
   "id": "e99bd492",
   "metadata": {},
   "outputs": [],
   "source": [
    "value = input('Enter any value')"
   ]
  },
  {
   "cell_type": "code",
   "execution_count": 18,
   "id": "652f5906",
   "metadata": {},
   "outputs": [
    {
     "name": "stdout",
     "output_type": "stream",
     "text": [
      "23\n",
      "<class 'str'>\n"
     ]
    }
   ],
   "source": [
    "print(value)\n",
    "print(type(value))"
   ]
  },
  {
   "cell_type": "code",
   "execution_count": 19,
   "id": "4d8fe5c8",
   "metadata": {},
   "outputs": [
    {
     "name": "stdout",
     "output_type": "stream",
     "text": [
      "Ali Khan\n"
     ]
    }
   ],
   "source": [
    "fname = input('Enter first name: ')\n",
    "lname = input('Enter second name: ')\n",
    "print(fname, lname)"
   ]
  },
  {
   "cell_type": "code",
   "execution_count": 35,
   "id": "8de7c8f3",
   "metadata": {},
   "outputs": [
    {
     "name": "stdout",
     "output_type": "stream",
     "text": [
      "This is your result 5\n"
     ]
    }
   ],
   "source": [
    "num1 = int(input('Enter first number: '))\n",
    "num2 = int(input('Enter second number: '))\n",
    "\n",
    "result = num1 + num2\n",
    "print('This is your result',result)"
   ]
  },
  {
   "cell_type": "code",
   "execution_count": 28,
   "id": "4517927d",
   "metadata": {},
   "outputs": [
    {
     "name": "stdout",
     "output_type": "stream",
     "text": [
      "3\n",
      "3\n",
      "+\n"
     ]
    }
   ],
   "source": [
    "print(2 + 1)\n",
    "print(2 + 1) #Concatenation\n",
    "print('+') #Concatenation\n",
    "# print(2 '+' 1) this is not the right way( invalid syntax)"
   ]
  },
  {
   "cell_type": "markdown",
   "id": "3e04cf9e",
   "metadata": {},
   "source": [
    "# Type Casting"
   ]
  },
  {
   "cell_type": "code",
   "execution_count": 34,
   "id": "76f56b15",
   "metadata": {},
   "outputs": [
    {
     "ename": "ValueError",
     "evalue": "invalid literal for int() with base 10: 'a'",
     "output_type": "error",
     "traceback": [
      "\u001b[1;31m---------------------------------------------------------------------------\u001b[0m",
      "\u001b[1;31mValueError\u001b[0m                                Traceback (most recent call last)",
      "\u001b[1;32m~\\AppData\\Local\\Temp\\ipykernel_648\\2121867093.py\u001b[0m in \u001b[0;36m<module>\u001b[1;34m\u001b[0m\n\u001b[1;32m----> 1\u001b[1;33m \u001b[0mint\u001b[0m\u001b[1;33m(\u001b[0m\u001b[1;34m'a'\u001b[0m\u001b[1;33m)\u001b[0m\u001b[1;33m\u001b[0m\u001b[1;33m\u001b[0m\u001b[0m\n\u001b[0m",
      "\u001b[1;31mValueError\u001b[0m: invalid literal for int() with base 10: 'a'"
     ]
    }
   ],
   "source": [
    "int('a')"
   ]
  },
  {
   "cell_type": "code",
   "execution_count": 30,
   "id": "e1a4d8c6",
   "metadata": {},
   "outputs": [
    {
     "data": {
      "text/plain": [
       "int"
      ]
     },
     "execution_count": 30,
     "metadata": {},
     "output_type": "execute_result"
    }
   ],
   "source": [
    "num = int('2')\n",
    "type(num)"
   ]
  },
  {
   "cell_type": "code",
   "execution_count": 36,
   "id": "414e41d0",
   "metadata": {},
   "outputs": [
    {
     "name": "stdout",
     "output_type": "stream",
     "text": [
      "23.3 <class 'float'>\n"
     ]
    }
   ],
   "source": [
    "num = '23.3'\n",
    "result = float(num)\n",
    "print(result, type(result))"
   ]
  },
  {
   "cell_type": "code",
   "execution_count": 40,
   "id": "9a7cc35b",
   "metadata": {},
   "outputs": [
    {
     "name": "stdout",
     "output_type": "stream",
     "text": [
      "The value of result is 23 and the type of result is <class 'str'>\n"
     ]
    }
   ],
   "source": [
    "num = 23\n",
    "result = str(num)\n",
    "print('The value of result is',result, 'and the type of result is', type(result))"
   ]
  },
  {
   "cell_type": "code",
   "execution_count": 47,
   "id": "00a4533b",
   "metadata": {},
   "outputs": [
    {
     "name": "stdout",
     "output_type": "stream",
     "text": [
      "False\n",
      "True\n",
      "True\n",
      "True\n",
      "True\n",
      "True\n",
      "True\n"
     ]
    }
   ],
   "source": [
    "print(bool(0))\n",
    "print(bool(1))\n",
    "print(bool(23))\n",
    "print(bool(-23))\n",
    "print(bool(-23.3))\n",
    "print(bool(23.3))\n",
    "print(bool(0.3))"
   ]
  },
  {
   "cell_type": "code",
   "execution_count": 52,
   "id": "5a2031cb",
   "metadata": {},
   "outputs": [
    {
     "name": "stdout",
     "output_type": "stream",
     "text": [
      "True\n",
      "True\n",
      "False\n"
     ]
    }
   ],
   "source": [
    "print(bool('kuch bhi hoskta hai'))\n",
    "print(bool(' '))\n",
    "print(bool(''))"
   ]
  },
  {
   "cell_type": "markdown",
   "id": "4096fac9",
   "metadata": {},
   "source": [
    "# String"
   ]
  },
  {
   "cell_type": "code",
   "execution_count": 53,
   "id": "576d934b",
   "metadata": {},
   "outputs": [
    {
     "name": "stdout",
     "output_type": "stream",
     "text": [
      "The value of result is 23 and the type of result is <class 'str'>\n"
     ]
    }
   ],
   "source": [
    "num = 23\n",
    "result = str(num)\n",
    "print('The value of result is',result, 'and the type of result is', type(result))"
   ]
  },
  {
   "cell_type": "markdown",
   "id": "a56a5b34",
   "metadata": {},
   "source": [
    "# String Formatting"
   ]
  },
  {
   "cell_type": "code",
   "execution_count": null,
   "id": "62d83f3f",
   "metadata": {},
   "outputs": [
    {
     "name": "stdout",
     "output_type": "stream",
     "text": [
      "The value of result is 23 and the type of result is <class 'int'>\n",
      "The value of result is 23 and the type of result is <class 'int'>\n"
     ]
    }
   ],
   "source": [
    "num = 23\n",
    "print('The value of result is',num, 'and the type of result is', type(num))\n",
    "print(f'The value of result is {num} and the type of result is {type(num)}') #string formatting\n"
   ]
  },
  {
   "cell_type": "code",
   "execution_count": 60,
   "id": "800836e3",
   "metadata": {},
   "outputs": [
    {
     "name": "stdout",
     "output_type": "stream",
     "text": [
      "I am 23 years old and i study python in smit gulshan campus\n"
     ]
    }
   ],
   "source": [
    "age = 23\n",
    "course  = 'python'\n",
    "campus = 'smit'\n",
    "print(f'I am {age} years old and i study {course} in {campus} gulshan campus')"
   ]
  },
  {
   "cell_type": "code",
   "execution_count": 64,
   "id": "6b0a5682",
   "metadata": {},
   "outputs": [
    {
     "ename": "SyntaxError",
     "evalue": "EOL while scanning string literal (2252152374.py, line 1)",
     "output_type": "error",
     "traceback": [
      "\u001b[1;36m  File \u001b[1;32m\"C:\\Users\\SMIT\\AppData\\Local\\Temp\\ipykernel_648\\2252152374.py\"\u001b[1;36m, line \u001b[1;32m1\u001b[0m\n\u001b[1;33m    print('this is first line\u001b[0m\n\u001b[1;37m                              ^\u001b[0m\n\u001b[1;31mSyntaxError\u001b[0m\u001b[1;31m:\u001b[0m EOL while scanning string literal\n"
     ]
    }
   ],
   "source": [
    "print('this is first line \n",
    "this is second line')"
   ]
  },
  {
   "cell_type": "code",
   "execution_count": null,
   "id": "6216d0c5",
   "metadata": {},
   "outputs": [],
   "source": [
    "print('dkfjdkfjdk')"
   ]
  }
 ],
 "metadata": {
  "kernelspec": {
   "display_name": "base",
   "language": "python",
   "name": "python3"
  },
  "language_info": {
   "codemirror_mode": {
    "name": "ipython",
    "version": 3
   },
   "file_extension": ".py",
   "mimetype": "text/x-python",
   "name": "python",
   "nbconvert_exporter": "python",
   "pygments_lexer": "ipython3",
   "version": "3.9.13"
  }
 },
 "nbformat": 4,
 "nbformat_minor": 5
}
