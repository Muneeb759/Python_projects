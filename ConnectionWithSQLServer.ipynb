{
 "cells": [
  {
   "cell_type": "code",
   "execution_count": 1,
   "id": "ccf9eba3",
   "metadata": {},
   "outputs": [
    {
     "name": "stdout",
     "output_type": "stream",
     "text": [
      "Collecting pyodbc\n",
      "  Downloading pyodbc-5.2.0-cp313-cp313-win_amd64.whl.metadata (2.8 kB)\n",
      "Downloading pyodbc-5.2.0-cp313-cp313-win_amd64.whl (69 kB)\n",
      "Installing collected packages: pyodbc\n",
      "Successfully installed pyodbc-5.2.0\n",
      "Note: you may need to restart the kernel to use updated packages.\n"
     ]
    }
   ],
   "source": [
    "pip install pyodbc"
   ]
  },
  {
   "cell_type": "code",
   "execution_count": 3,
   "id": "aa5f24e8",
   "metadata": {},
   "outputs": [
    {
     "name": "stdout",
     "output_type": "stream",
     "text": [
      "Failed to create a new connection: ('IM002', '[IM002] [Microsoft][ODBC Driver Manager] Data source name not found and no default driver specified (0) (SQLDriverConnect)')\n"
     ]
    }
   ],
   "source": [
    "from pyodbc import connect, Error\n",
    "\n",
    "connection_string = \"Server=MHN-305;Database=PGMC;User Id=sa;Password=Super@123; MultipleActiveResultSets=True;Encrypt=False\"\n",
    "\n",
    "# Create a new connection with SQL Server\n",
    "try:\n",
    "    connection = connect(connection_string)\n",
    "    print(\"New connection to SQL Server established.\")\n",
    "except Error as e:\n",
    "    print(\"Failed to create a new connection:\", e)"
   ]
  },
  {
   "cell_type": "code",
   "execution_count": 20,
   "id": "89be070f",
   "metadata": {},
   "outputs": [
    {
     "name": "stdout",
     "output_type": "stream",
     "text": [
      "('PM-0031', 'PAK GREASE NLGI Grade Self Adhesive Sticker', 12291)\n"
     ]
    }
   ],
   "source": [
    "import pyodbc\n",
    "\n",
    "# Your connection string\n",
    "connection_string = (\n",
    "    \"DRIVER={ODBC Driver 17 for SQL Server};\" # Make sure to use the correct driver\n",
    "    \"SERVER=MHN-305;\" # Your server name\n",
    "    \"DATABASE=PGMC;\" # Your database name\n",
    "    \"UID=sa;\" # Your username\n",
    "    \"PWD=Super@123;\" # Your password\n",
    "    \"MultipleActiveResultSets=True;\" # Enable MARS\n",
    "    \"Encrypt=no;\" # Disable encryption if not needed\n",
    ")\n",
    "\n",
    "try:\n",
    "    conn = pyodbc.connect(connection_string)\n",
    "    cursor = conn.cursor()\n",
    "    # print(\"Connected to SQL Server successfully.\")\n",
    "\n",
    "    # Test query\n",
    "    cursor.execute(\"SELECT INV1.ItemCode, INV1.Dscription, OINV.DocNum FROM OINV LEFT JOIN INV1 ON OINV.DocEntry = INV1.DocEntry WHERE INV1.DocEntry = 3219\")\n",
    "    for row in cursor.fetchall():\n",
    "        print(row)\n",
    "\n",
    "    conn.close()\n",
    "except Exception as e:\n",
    "    print(\"Error:\", e)\n"
   ]
  },
  {
   "cell_type": "code",
   "execution_count": 26,
   "id": "808d525b",
   "metadata": {},
   "outputs": [
    {
     "name": "stdout",
     "output_type": "stream",
     "text": [
      "Connected to SQL Server successfully.\n"
     ]
    }
   ],
   "source": [
    "import pyodbc\n",
    "\n",
    "connection_string = (\n",
    "    \"DRIVER={ODBC Driver 17 for SQL Server};\"\n",
    "    \"SERVER=MHN-305;\"\n",
    "    \"DATABASE=PGMC;\"\n",
    "    \"UID=sa;\"\n",
    "    \"PWD=Super@123;\"\n",
    "    \"MultipleActiveResultSets=True;\"\n",
    "    \"Encrypt=no;\"\n",
    ")\n",
    "\n",
    "try:\n",
    "    conn = pyodbc.connect(connection_string)\n",
    "    cursor = conn.cursor()\n",
    "    print(\"Connected to SQL Server successfully.\")\n",
    "\n",
    "    conn.close()\n",
    "\n",
    "except Exception as e:\n",
    "    print (\"Error: \", e)"
   ]
  },
  {
   "cell_type": "code",
   "execution_count": null,
   "id": "29ccc384",
   "metadata": {},
   "outputs": [
    {
     "name": "stdout",
     "output_type": "stream",
     "text": [
      "SQL Connected\n"
     ]
    }
   ],
   "source": [
    "import pyodbc\n",
    "\n",
    "connection_string = (\n",
    "    \"DRIVER={ODBC Driver 17 for SQL Server};\"\n",
    "    \"SERVER=MHN-305;\"\n",
    "    \"DATABASE=PGMC;\"\n",
    "    \"UID=sa;\"\n",
    "    \"PWD=Super@123;\"\n",
    "    \"MultipleActiveResultSets=True;\"\n",
    "    \"Encrypt=no;\"\n",
    ")\n",
    "\n",
    "try:\n",
    "    conn = pyodbc.connect(connection_string)\n",
    "    cursor = conn.cursor()\n",
    "    print(\"SQL Connected\")\n",
    "    conn.close()\n",
    "\n",
    "except Exception as e:\n",
    "    print (\"Error: \", e)"
   ]
  },
  {
   "cell_type": "code",
   "execution_count": 42,
   "id": "73c3b41e",
   "metadata": {},
   "outputs": [
    {
     "name": "stdout",
     "output_type": "stream",
     "text": [
      "Connected Successfully.\n",
      "('PM-0031', 'PAK GREASE NLGI Grade Self Adhesive Sticker', 12291)\n"
     ]
    }
   ],
   "source": [
    "import pyodbc\n",
    "\n",
    "connection_string = (\n",
    "    \"DRIVER={ODBC Driver 17 for SQL Server};\"\n",
    "    \"SERVER=MHN-305;\"\n",
    "    \"DATABASE=PGMC;\"\n",
    "    \"UID=sa;\"\n",
    "    \"PWD=Super@123;\"\n",
    "    \"MultipleActiveResultSets=True;\"\n",
    "    \"Encrypt=no;\"\n",
    ")\n",
    "\n",
    "try:\n",
    "    conn = pyodbc.connect(connection_string)\n",
    "    cursor = conn.cursor()\n",
    "    print(\"Connected Successfully.\")\n",
    "\n",
    "\n",
    "    cursor.execute(\"SELECT INV1.ItemCode, INV1.Dscription, OINV.DocNum FROM OINV LEFT JOIN INV1 ON OINV.DocEntry = INV1.DocEntry WHERE INV1.DocEntry = 3219\")\n",
    "    for x in cursor.fetchall():\n",
    "        print (x)\n",
    "    conn.close()\n",
    "\n",
    "except Exception as e:\n",
    "    print(\"Error: \", e)"
   ]
  }
 ],
 "metadata": {
  "kernelspec": {
   "display_name": "Python 3",
   "language": "python",
   "name": "python3"
  },
  "language_info": {
   "codemirror_mode": {
    "name": "ipython",
    "version": 3
   },
   "file_extension": ".py",
   "mimetype": "text/x-python",
   "name": "python",
   "nbconvert_exporter": "python",
   "pygments_lexer": "ipython3",
   "version": "3.13.7"
  }
 },
 "nbformat": 4,
 "nbformat_minor": 5
}
