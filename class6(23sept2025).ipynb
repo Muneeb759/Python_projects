{
 "cells": [
  {
   "cell_type": "code",
   "execution_count": 1,
   "id": "a2e7a71d",
   "metadata": {},
   "outputs": [],
   "source": [
    "info = 'This is a sentence'"
   ]
  },
  {
   "cell_type": "code",
   "execution_count": 2,
   "id": "20fe8a4d",
   "metadata": {},
   "outputs": [
    {
     "data": {
      "text/plain": [
       "'This is a sentence'"
      ]
     },
     "execution_count": 2,
     "metadata": {},
     "output_type": "execute_result"
    }
   ],
   "source": [
    "info"
   ]
  },
  {
   "cell_type": "code",
   "execution_count": 3,
   "id": "6ade315d",
   "metadata": {},
   "outputs": [
    {
     "data": {
      "text/plain": [
       "str"
      ]
     },
     "execution_count": 3,
     "metadata": {},
     "output_type": "execute_result"
    }
   ],
   "source": [
    "type(info)"
   ]
  },
  {
   "cell_type": "code",
   "execution_count": 4,
   "id": "1bbfa37e",
   "metadata": {},
   "outputs": [],
   "source": [
    "number = 10"
   ]
  },
  {
   "cell_type": "code",
   "execution_count": 5,
   "id": "03863a51",
   "metadata": {},
   "outputs": [
    {
     "ename": "AttributeError",
     "evalue": "'int' object has no attribute 'upper'",
     "output_type": "error",
     "traceback": [
      "\u001b[1;31m---------------------------------------------------------------------------\u001b[0m",
      "\u001b[1;31mAttributeError\u001b[0m                            Traceback (most recent call last)",
      "\u001b[1;32m~\\AppData\\Local\\Temp\\ipykernel_12472\\27824213.py\u001b[0m in \u001b[0;36m<module>\u001b[1;34m\u001b[0m\n\u001b[1;32m----> 1\u001b[1;33m \u001b[0mnumber\u001b[0m\u001b[1;33m.\u001b[0m\u001b[0mupper\u001b[0m\u001b[1;33m(\u001b[0m\u001b[1;33m)\u001b[0m\u001b[1;33m\u001b[0m\u001b[1;33m\u001b[0m\u001b[0m\n\u001b[0m",
      "\u001b[1;31mAttributeError\u001b[0m: 'int' object has no attribute 'upper'"
     ]
    }
   ],
   "source": [
    "number.upper()"
   ]
  },
  {
   "cell_type": "code",
   "execution_count": 9,
   "id": "06b73298",
   "metadata": {},
   "outputs": [],
   "source": [
    "info = info.upper()"
   ]
  },
  {
   "cell_type": "code",
   "execution_count": 11,
   "id": "5475b91b",
   "metadata": {},
   "outputs": [
    {
     "data": {
      "text/plain": [
       "'this is a sentence'"
      ]
     },
     "execution_count": 11,
     "metadata": {},
     "output_type": "execute_result"
    }
   ],
   "source": [
    "info.lower()"
   ]
  },
  {
   "cell_type": "code",
   "execution_count": 12,
   "id": "23d6445b",
   "metadata": {},
   "outputs": [
    {
     "data": {
      "text/plain": [
       "'This Is A Sentence'"
      ]
     },
     "execution_count": 12,
     "metadata": {},
     "output_type": "execute_result"
    }
   ],
   "source": [
    "info.title()"
   ]
  },
  {
   "cell_type": "code",
   "execution_count": 13,
   "id": "447cd300",
   "metadata": {},
   "outputs": [
    {
     "data": {
      "text/plain": [
       "'This is a sentence'"
      ]
     },
     "execution_count": 13,
     "metadata": {},
     "output_type": "execute_result"
    }
   ],
   "source": [
    "info.capitalize()"
   ]
  },
  {
   "cell_type": "code",
   "execution_count": 17,
   "id": "818eb4b8",
   "metadata": {},
   "outputs": [
    {
     "data": {
      "text/plain": [
       "'Ali Khan'"
      ]
     },
     "execution_count": 17,
     "metadata": {},
     "output_type": "execute_result"
    }
   ],
   "source": [
    "fullname = input('Enter you full name: ').title()\n",
    "fullname"
   ]
  },
  {
   "cell_type": "code",
   "execution_count": 21,
   "id": "15722154",
   "metadata": {},
   "outputs": [
    {
     "data": {
      "text/plain": [
       "'Ali Khan'"
      ]
     },
     "execution_count": 21,
     "metadata": {},
     "output_type": "execute_result"
    }
   ],
   "source": [
    "fullname"
   ]
  },
  {
   "cell_type": "code",
   "execution_count": 20,
   "id": "b2582574",
   "metadata": {},
   "outputs": [
    {
     "data": {
      "text/plain": [
       "False"
      ]
     },
     "execution_count": 20,
     "metadata": {},
     "output_type": "execute_result"
    }
   ],
   "source": [
    "fullname.isupper()"
   ]
  },
  {
   "cell_type": "code",
   "execution_count": 23,
   "id": "cb7ba9dc",
   "metadata": {},
   "outputs": [
    {
     "data": {
      "text/plain": [
       "False"
      ]
     },
     "execution_count": 23,
     "metadata": {},
     "output_type": "execute_result"
    }
   ],
   "source": [
    "fullname.islower()"
   ]
  },
  {
   "cell_type": "code",
   "execution_count": 24,
   "id": "4b708d69",
   "metadata": {},
   "outputs": [
    {
     "data": {
      "text/plain": [
       "True"
      ]
     },
     "execution_count": 24,
     "metadata": {},
     "output_type": "execute_result"
    }
   ],
   "source": [
    "fullname.istitle()"
   ]
  },
  {
   "cell_type": "code",
   "execution_count": 27,
   "id": "adbab448",
   "metadata": {},
   "outputs": [],
   "source": [
    "empty_string = ''\n",
    "space_string = ' ' #having space"
   ]
  },
  {
   "cell_type": "code",
   "execution_count": 31,
   "id": "d3fab238",
   "metadata": {},
   "outputs": [
    {
     "data": {
      "text/plain": [
       "'Ali Khan'"
      ]
     },
     "execution_count": 31,
     "metadata": {},
     "output_type": "execute_result"
    }
   ],
   "source": [
    "fullname"
   ]
  },
  {
   "cell_type": "code",
   "execution_count": 30,
   "id": "4b8d93c0",
   "metadata": {},
   "outputs": [
    {
     "data": {
      "text/plain": [
       "False"
      ]
     },
     "execution_count": 30,
     "metadata": {},
     "output_type": "execute_result"
    }
   ],
   "source": [
    "fullname.isspace()"
   ]
  },
  {
   "cell_type": "code",
   "execution_count": 29,
   "id": "16117a4f",
   "metadata": {},
   "outputs": [
    {
     "data": {
      "text/plain": [
       "False"
      ]
     },
     "execution_count": 29,
     "metadata": {},
     "output_type": "execute_result"
    }
   ],
   "source": [
    "empty_string.isspace()"
   ]
  },
  {
   "cell_type": "code",
   "execution_count": 28,
   "id": "a9b1b147",
   "metadata": {},
   "outputs": [
    {
     "data": {
      "text/plain": [
       "True"
      ]
     },
     "execution_count": 28,
     "metadata": {},
     "output_type": "execute_result"
    }
   ],
   "source": [
    "space_string.isspace()"
   ]
  },
  {
   "cell_type": "code",
   "execution_count": null,
   "id": "cdf486fb",
   "metadata": {},
   "outputs": [],
   "source": [
    "'pakistan'\n",
    "'p a k i s t a n'"
   ]
  },
  {
   "cell_type": "code",
   "execution_count": 1,
   "id": "b13d3df4",
   "metadata": {},
   "outputs": [
    {
     "data": {
      "text/plain": [
       "'My name is ali khan 2112'"
      ]
     },
     "execution_count": 1,
     "metadata": {},
     "output_type": "execute_result"
    }
   ],
   "source": [
    "'My name is ali khan 2112'"
   ]
  },
  {
   "cell_type": "code",
   "execution_count": 58,
   "id": "065ac384",
   "metadata": {},
   "outputs": [
    {
     "data": {
      "text/plain": [
       "'Ali Khan'"
      ]
     },
     "execution_count": 58,
     "metadata": {},
     "output_type": "execute_result"
    }
   ],
   "source": [
    "fullname"
   ]
  },
  {
   "cell_type": "code",
   "execution_count": 59,
   "id": "db507f1a",
   "metadata": {},
   "outputs": [
    {
     "data": {
      "text/plain": [
       "True"
      ]
     },
     "execution_count": 59,
     "metadata": {},
     "output_type": "execute_result"
    }
   ],
   "source": [
    "fullname.startswith('A')"
   ]
  },
  {
   "cell_type": "code",
   "execution_count": 62,
   "id": "45c41dd5",
   "metadata": {},
   "outputs": [
    {
     "data": {
      "text/plain": [
       "False"
      ]
     },
     "execution_count": 62,
     "metadata": {},
     "output_type": "execute_result"
    }
   ],
   "source": [
    "char = input('Enter the letter? ').upper()\n",
    "fullname.startswith(char)"
   ]
  },
  {
   "cell_type": "code",
   "execution_count": 63,
   "id": "bee2634e",
   "metadata": {},
   "outputs": [
    {
     "data": {
      "text/plain": [
       "False"
      ]
     },
     "execution_count": 63,
     "metadata": {},
     "output_type": "execute_result"
    }
   ],
   "source": [
    "fullname.startswith('k')"
   ]
  },
  {
   "cell_type": "code",
   "execution_count": null,
   "id": "7bcbc6fe",
   "metadata": {},
   "outputs": [
    {
     "data": {
      "text/plain": [
       "True"
      ]
     },
     "execution_count": 69,
     "metadata": {},
     "output_type": "execute_result"
    }
   ],
   "source": [
    "fullname.endswith('n')"
   ]
  },
  {
   "cell_type": "code",
   "execution_count": null,
   "id": "ef58bb74",
   "metadata": {},
   "outputs": [
    {
     "data": {
      "text/plain": [
       "False"
      ]
     },
     "metadata": {},
     "output_type": "display_data"
    }
   ],
   "source": [
    "fullname.endswith('a')"
   ]
  },
  {
   "cell_type": "code",
   "execution_count": 71,
   "id": "d0c091a9",
   "metadata": {},
   "outputs": [
    {
     "data": {
      "text/plain": [
       "True"
      ]
     },
     "execution_count": 71,
     "metadata": {},
     "output_type": "execute_result"
    }
   ],
   "source": [
    "fullname.endswith('N'.lower())"
   ]
  }
 ],
 "metadata": {
  "kernelspec": {
   "display_name": "Python 3",
   "language": "python",
   "name": "python3"
  },
  "language_info": {
   "codemirror_mode": {
    "name": "ipython",
    "version": 3
   },
   "file_extension": ".py",
   "mimetype": "text/x-python",
   "name": "python",
   "nbconvert_exporter": "python",
   "pygments_lexer": "ipython3",
   "version": "3.13.1"
  }
 },
 "nbformat": 4,
 "nbformat_minor": 5
}
