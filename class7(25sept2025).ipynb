{
 "cells": [
  {
   "cell_type": "code",
   "execution_count": 6,
   "id": "0d836340",
   "metadata": {},
   "outputs": [
    {
     "name": "stdout",
     "output_type": "stream",
     "text": [
      "Hello Muhmmad Muneeb! You just delved into Python.\n"
     ]
    }
   ],
   "source": [
    "fname = input('Enter your first name: ').strip()\n",
    "lname = input('Enter your last name: ').rstrip()\n",
    "\n",
    "print(f'Hello {fname} {lname}! You just delved into Python.')"
   ]
  },
  {
   "cell_type": "code",
   "execution_count": 12,
   "id": "8967832a",
   "metadata": {},
   "outputs": [
    {
     "data": {
      "text/plain": [
       "'             Pakistan'"
      ]
     },
     "execution_count": 12,
     "metadata": {},
     "output_type": "execute_result"
    }
   ],
   "source": [
    "country = '             Pakistan'\n",
    "country.lstrip() # removes extra spaces from left side\n",
    "country.rstrip() # removes extra spaces from right side"
   ]
  },
  {
   "cell_type": "code",
   "execution_count": 28,
   "id": "1fd54cb1",
   "metadata": {},
   "outputs": [
    {
     "data": {
      "text/plain": [
       "'My name is Muneeb and i lives in Karachi'"
      ]
     },
     "execution_count": 28,
     "metadata": {},
     "output_type": "execute_result"
    }
   ],
   "source": [
    "info = 'My name is Ali and i lives in Lahore'\n",
    "info = info.replace('Lahore', 'Karachi').replace('Ali', 'Muneeb') # replaces any value (2 parameters) 1st paramater is old value and 2nd parameter is new value\n",
    "info # hum 2 cheezon ko bh ek sath replace krskte hain jese upar howa hai"
   ]
  },
  {
   "cell_type": "code",
   "execution_count": 43,
   "id": "384684e0",
   "metadata": {},
   "outputs": [
    {
     "name": "stdout",
     "output_type": "stream",
     "text": [
      "Yes, Muneeb is present in the info string.\n"
     ]
    }
   ],
   "source": [
    "if 'Karachi' in info:\n",
    "    print('Yes, Muneeb is present in the info string.')\n",
    "else:\n",
    "    print('No, Karachi is not present in the info string.')\n",
    "# 'in' keyword is used to check if a substring exists within a string or not"
   ]
  },
  {
   "cell_type": "code",
   "execution_count": 45,
   "id": "528cfcfb",
   "metadata": {},
   "outputs": [
    {
     "data": {
      "text/plain": [
       "11"
      ]
     },
     "execution_count": 45,
     "metadata": {},
     "output_type": "execute_result"
    }
   ],
   "source": [
    "info.find('Muneeb') # find() method tells the index of the first occurrence of the specified value. It returns -1 if the value is not found.\n",
    "info.rfind('Muneeb') # rfind() method returns the highest index of the substring if found in the given string. If not found, it returns -1."
   ]
  },
  {
   "cell_type": "code",
   "execution_count": 14,
   "id": "fedb27e2",
   "metadata": {},
   "outputs": [
    {
     "data": {
      "text/plain": [
       "35"
      ]
     },
     "execution_count": 14,
     "metadata": {},
     "output_type": "execute_result"
    }
   ],
   "source": [
    "info = 'My name is nabeel sadiq, i live in Lahore and Lahore is a beautiful city and i dont want to leave Lahore'\n",
    "\n",
    "start = info.find('i live')\n",
    "end = info.find('city')\n",
    "\n",
    "info.find('Lahore', )"
   ]
  }
 ],
 "metadata": {
  "kernelspec": {
   "display_name": "Python 3",
   "language": "python",
   "name": "python3"
  },
  "language_info": {
   "codemirror_mode": {
    "name": "ipython",
    "version": 3
   },
   "file_extension": ".py",
   "mimetype": "text/x-python",
   "name": "python",
   "nbconvert_exporter": "python",
   "pygments_lexer": "ipython3",
   "version": "3.13.1"
  }
 },
 "nbformat": 4,
 "nbformat_minor": 5
}
