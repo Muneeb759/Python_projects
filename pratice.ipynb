{
 "cells": [
  {
   "cell_type": "code",
   "execution_count": null,
   "id": "35af52c1",
   "metadata": {},
   "outputs": [
    {
     "name": "stdout",
     "output_type": "stream",
     "text": [
      "Hello, Muneeb\n"
     ]
    }
   ],
   "source": [
    "# Creating a new function named muneeb that will print \"Hello, Muneeb\"\n",
    "def muneeb():\n",
    "    print(\"Hello, Muneeb\")\n",
    "muneeb()"
   ]
  },
  {
   "cell_type": "code",
   "execution_count": 9,
   "id": "e67d5cda",
   "metadata": {},
   "outputs": [
    {
     "name": "stdout",
     "output_type": "stream",
     "text": [
      "hello world hello world---3\n",
      "hello world2\n"
     ]
    }
   ],
   "source": [
    "print(\"hello world\", end=\" \")\n",
    "print(\"hello world\",\"3\", sep=\"---\")\n",
    "print(\"hello world2\")"
   ]
  },
  {
   "cell_type": "code",
   "execution_count": 11,
   "id": "01678a69",
   "metadata": {},
   "outputs": [
    {
     "name": "stdout",
     "output_type": "stream",
     "text": [
      "<class 'str'>\n",
      "<class 'bool'>\n"
     ]
    }
   ],
   "source": [
    "print(type(\"asd\"))\n",
    "print(type(True))"
   ]
  },
  {
   "cell_type": "code",
   "execution_count": 2,
   "id": "a07acc46",
   "metadata": {},
   "outputs": [
    {
     "name": "stdout",
     "output_type": "stream",
     "text": [
      "muneeb\n"
     ]
    }
   ],
   "source": [
    "name = \"muneeb\"\n",
    "print(name)"
   ]
  },
  {
   "cell_type": "code",
   "execution_count": 10,
   "id": "5fac2276",
   "metadata": {},
   "outputs": [
    {
     "name": "stdout",
     "output_type": "stream",
     "text": [
      "Hello Muhammad Muneeb\n"
     ]
    }
   ],
   "source": [
    "fname = input(\"Enter your name: \")\n",
    "lname = input(\"Enter your last name: \")\n",
    "print(\"Hello\", fname, lname)"
   ]
  },
  {
   "cell_type": "code",
   "execution_count": 11,
   "id": "b7d30e09",
   "metadata": {},
   "outputs": [
    {
     "name": "stdout",
     "output_type": "stream",
     "text": [
      "The sum is: 30\n"
     ]
    }
   ],
   "source": [
    "num1 = input(\"enter first number: \")\n",
    "num2 = input(\"enter second number: \")\n",
    "sum = int(num1) + int(num2)\n",
    "print(\"The sum is:\" , sum)"
   ]
  },
  {
   "cell_type": "code",
   "execution_count": null,
   "id": "898b8100",
   "metadata": {},
   "outputs": [
    {
     "name": "stdout",
     "output_type": "stream",
     "text": [
      "['pratice.ipynb', 'saylani_test_folder']\n"
     ]
    }
   ],
   "source": [
    "import os\n",
    "\n",
    "print(os.listdir())"
   ]
  },
  {
   "cell_type": "code",
   "execution_count": null,
   "id": "2094a386",
   "metadata": {},
   "outputs": [
    {
     "name": "stdout",
     "output_type": "stream",
     "text": [
      "I am  . I am studying ''. My email is .\n"
     ]
    }
   ],
   "source": [
    "#f-string\n",
    "fname = input(\"Enter your name: \")\n",
    "lname = input(\"Enter your last name: \")\n",
    "course = input(\"Enter your course: \")\n",
    "email = input(\"Enter your email: \")\n",
    "\n",
    "print(f\"I am {fname} {lname}. I am studying '{course}'. My email is {email}.\")"
   ]
  },
  {
   "cell_type": "markdown",
   "id": "eaf6d239",
   "metadata": {},
   "source": [
    "# String's Methods in python"
   ]
  },
  {
   "cell_type": "code",
   "execution_count": 23,
   "id": "e6f51fdd",
   "metadata": {},
   "outputs": [
    {
     "name": "stdout",
     "output_type": "stream",
     "text": [
      "CHINNUS SWAMI MUTTUS SWAMI WEHRUN GOPAL IYER\n",
      "Chinnus swami muttus swami wehrun gopal iyer\n",
      "<class 'str'>\n",
      "<class 'int'>\n",
      "<class 'str'>\n",
      "<class 'int'>\n"
     ]
    }
   ],
   "source": [
    "name = 'chinnus swami muttus swami wehrun gopal Iyer'\n",
    "num = 10\n",
    "\n",
    "print(name.upper())\n",
    "print(name.capitalize())\n",
    "print(name.__class__)\n",
    "print(num.__class__)\n",
    "print(type(name))\n",
    "print(type(num))"
   ]
  },
  {
   "cell_type": "code",
   "execution_count": null,
   "id": "20702500",
   "metadata": {},
   "outputs": [],
   "source": []
  }
 ],
 "metadata": {
  "kernelspec": {
   "display_name": "Python 3",
   "language": "python",
   "name": "python3"
  },
  "language_info": {
   "codemirror_mode": {
    "name": "ipython",
    "version": 3
   },
   "file_extension": ".py",
   "mimetype": "text/x-python",
   "name": "python",
   "nbconvert_exporter": "python",
   "pygments_lexer": "ipython3",
   "version": "3.13.1"
  }
 },
 "nbformat": 4,
 "nbformat_minor": 5
}
